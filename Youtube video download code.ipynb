{
 "cells": [
  {
   "cell_type": "code",
   "execution_count": 2,
   "id": "b6b59561",
   "metadata": {},
   "outputs": [
    {
     "name": "stdout",
     "output_type": "stream",
     "text": [
      "Collecting yt-dlp\n",
      "  Downloading yt_dlp-2023.10.13-py2.py3-none-any.whl (3.1 MB)\n",
      "     ---------------------------------------- 3.1/3.1 MB 4.6 MB/s eta 0:00:00\n",
      "Collecting mutagen\n",
      "  Downloading mutagen-1.47.0-py3-none-any.whl (194 kB)\n",
      "     -------------------------------------- 194.4/194.4 kB 2.9 MB/s eta 0:00:00\n",
      "Collecting brotli\n",
      "  Downloading Brotli-1.1.0-cp310-cp310-win_amd64.whl (357 kB)\n",
      "     -------------------------------------- 357.3/357.3 kB 3.7 MB/s eta 0:00:00\n",
      "Collecting pycryptodomex\n",
      "  Downloading pycryptodomex-3.19.0-cp35-abi3-win_amd64.whl (1.7 MB)\n",
      "     ---------------------------------------- 1.7/1.7 MB 4.3 MB/s eta 0:00:00\n",
      "Collecting websockets\n",
      "  Downloading websockets-12.0-cp310-cp310-win_amd64.whl (124 kB)\n",
      "     -------------------------------------- 125.0/125.0 kB 1.5 MB/s eta 0:00:00\n",
      "Requirement already satisfied: certifi in c:\\users\\nitin\\appdata\\local\\anaconda3\\lib\\site-packages (from yt-dlp) (2022.12.7)\n",
      "Installing collected packages: brotli, websockets, pycryptodomex, mutagen, yt-dlp\n",
      "Successfully installed brotli-1.1.0 mutagen-1.47.0 pycryptodomex-3.19.0 websockets-12.0 yt-dlp-2023.10.13\n",
      "Note: you may need to restart the kernel to use updated packages.\n"
     ]
    }
   ],
   "source": [
    "pip install yt-dlp"
   ]
  },
  {
   "cell_type": "code",
   "execution_count": 5,
   "id": "6879100e",
   "metadata": {},
   "outputs": [
    {
     "name": "stdout",
     "output_type": "stream",
     "text": [
      "Enter the URL : https://youtu.be/QzLz-W29Tww?si=b-bqNIg_sPuiNLkr\n",
      "[youtube] Extracting URL: https://youtu.be/QzLz-W29Tww?si=b-bqNIg_sPuiNLkr\n",
      "[youtube] QzLz-W29Tww: Downloading webpage\n",
      "[youtube] QzLz-W29Tww: Downloading ios player API JSON\n",
      "[youtube] QzLz-W29Tww: Downloading android player API JSON\n",
      "[youtube] QzLz-W29Tww: Downloading m3u8 information\n",
      "[info] QzLz-W29Tww: Downloading 1 format(s): 22\n",
      "[download] Destination: How to Start a Data YouTube Channel [QzLz-W29Tww].mp4\n",
      "[download] 100% of   63.11MiB in 00:00:18 at 3.37MiB/s     \n",
      "Video Downloaded\n"
     ]
    }
   ],
   "source": [
    "import yt_dlp\n",
    "\n",
    "url = input(\"Enter the URL : \")\n",
    "\n",
    "yd1_opts = {}\n",
    "\n",
    "with yt_dlp.YoutubeDL(yd1_opts) as yd1:\n",
    "    yd1.download([url])\n",
    "    \n",
    "print(\"Video Downloaded\")"
   ]
  },
  {
   "cell_type": "code",
   "execution_count": null,
   "id": "c1103aa0",
   "metadata": {},
   "outputs": [],
   "source": []
  }
 ],
 "metadata": {
  "kernelspec": {
   "display_name": "Python 3 (ipykernel)",
   "language": "python",
   "name": "python3"
  },
  "language_info": {
   "codemirror_mode": {
    "name": "ipython",
    "version": 3
   },
   "file_extension": ".py",
   "mimetype": "text/x-python",
   "name": "python",
   "nbconvert_exporter": "python",
   "pygments_lexer": "ipython3",
   "version": "3.10.9"
  }
 },
 "nbformat": 4,
 "nbformat_minor": 5
}
